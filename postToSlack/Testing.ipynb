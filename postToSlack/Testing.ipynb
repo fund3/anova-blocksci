{
 "cells": [
  {
   "cell_type": "code",
   "execution_count": 34,
   "metadata": {},
   "outputs": [],
   "source": [
    "\"\"\"\n",
    "    post_to_slack.py\n",
    "\n",
    "When this script is run, it will check the difference in crypto wallet balances between two\n",
    "# dates and if the difference in balance is significant, it will send a notification to the\n",
    "# FUND3 slack channel\n",
    "\"\"\"\n",
    "\n",
    "import datetime\n",
    "import sys\n",
    "import json\n",
    "import blocksci\n",
    "import numpy as np\n",
    "import pandas as pd\n",
    "\n",
    "# sys.path.append(\"..\")\n",
    "sys.path.append(\"../../\")\n",
    "\n",
    "from slackclient import SlackClient\n",
    "from services.transactions import get_top_transactions\n",
    "pd.set_option('display.max_colwidth', -1)\n",
    "\n",
    "\n",
    "\n",
    "class failedPost(Exception):\n",
    "    pass\n",
    "\n",
    "\"\"\"\n",
    "Simple Util class to send a slack message notification.\n",
    "\"\"\"\n",
    "class SlackUtil:\n",
    "    \"\"\"\n",
    "    Official Slack API Reference: https://github.com/slackapi/python-slackclient\n",
    "    Simple Util class to send a slack message notification.\n",
    "    For now, the functionality is rather simple - just sending a message.\n",
    "    But in the future logging should be incorporated and this could be developed\n",
    "    into a full slackbot wrapper.\n",
    "    TODOs:\n",
    "    1. Figure out how to search and store all slack channel/ user IDs and\n",
    "    keep a list instead of using #channelname\n",
    "    \"\"\"\n",
    "    def __init__(self, auth_token):\n",
    "        \"\"\"\n",
    "        Need a better way to store auth_tokens aside from env vars.\n",
    "        :param auth_token:\n",
    "        \"\"\"\n",
    "        self.client = SlackClient(auth_token)\n",
    "\n",
    "    def send_message(self, channel, message, botname):\n",
    "        \"\"\"\n",
    "        Sends a message to a channel with botname.\n",
    "        TODO (calvinleungyk): Extend to adding icon/ emoji url for the bot.\n",
    "        Example usage:\n",
    "            slack_util = SlackUtil(auth_token)\n",
    "            slack_util.send_message('random', 'This is a test message.',\n",
    "                                    'botname')\n",
    "        :param channel: str, name of the channel to send to, the\n",
    "        channel needs to already exist for the call to be successful.\n",
    "        :param message: str, the actual message.\n",
    "        :param botname: str, name of the bot that sends the message.\n",
    "        :return:\n",
    "        \"\"\"\n",
    "        channel = '#'+channel\n",
    "\n",
    "        # is response an unused variable name ?\n",
    "        response = self.client.api_call(\n",
    "            \"chat.postMessage\",\n",
    "            channel=channel,\n",
    "            text=message,\n",
    "            as_user=False,\n",
    "            username=botname\n",
    "        )\n",
    "\n",
    "\n",
    "\n",
    "# -----------  RETRIEVING TRANSACTION INFORMATION ----------------\n",
    "\n",
    "VALUE_THRESHOLD = 1500\n",
    "\n",
    "# Importing authentication token\n",
    "with open(\"../../services/token.json\") as datafile:\n",
    "    data = json.load(datafile)\n",
    "auth_token = data['token']\n",
    "\n",
    "# Initialising the class\n",
    "slack_util = SlackUtil(auth_token)\n",
    "\n",
    "# retrieving top transactions from the last week\n",
    "\n",
    "d = datetime.date.today()\n",
    "\n",
    "currentObj = d - datetime.timedelta(days=0)\n",
    "latest_date = currentObj.strftime('%Y-%-m-%d')\n",
    "\n",
    "weekAgoObj = d - datetime.timedelta(days=7)\n",
    "week_ago = weekAgoObj.strftime('%Y-%-m-%d')\n",
    "\n",
    "s = get_top_transactions(week_ago, latest_date)\n",
    "\n",
    "# Finding the highest value transaction and its corresponding address\n",
    "max_value = s['Value'].max()\n",
    "max_address = s[s['Value'] == s['Value'].max()]['Address']\n",
    "\n",
    "address_str = str(max_address).split()[1][:-1]+')'\n",
    "\n",
    "max_date = s[s['Value'] == s['Value'].max()]['Date']\n",
    "date_str = str(max_date)[6:30]"
   ]
  },
  {
   "cell_type": "code",
   "execution_count": 35,
   "metadata": {},
   "outputs": [
    {
     "data": {
      "text/plain": [
       "'2018-10-23'"
      ]
     },
     "execution_count": 35,
     "metadata": {},
     "output_type": "execute_result"
    }
   ],
   "source": [
    "latest_date"
   ]
  },
  {
   "cell_type": "code",
   "execution_count": 36,
   "metadata": {},
   "outputs": [
    {
     "data": {
      "text/plain": [
       "'2018-10-16'"
      ]
     },
     "execution_count": 36,
     "metadata": {},
     "output_type": "execute_result"
    }
   ],
   "source": [
    "week_ago"
   ]
  },
  {
   "cell_type": "code",
   "execution_count": 37,
   "metadata": {},
   "outputs": [
    {
     "data": {
      "text/plain": [
       "nan"
      ]
     },
     "execution_count": 37,
     "metadata": {},
     "output_type": "execute_result"
    }
   ],
   "source": [
    "max_value"
   ]
  },
  {
   "cell_type": "code",
   "execution_count": 44,
   "metadata": {},
   "outputs": [
    {
     "data": {
      "text/html": [
       "<div>\n",
       "<style scoped>\n",
       "    .dataframe tbody tr th:only-of-type {\n",
       "        vertical-align: middle;\n",
       "    }\n",
       "\n",
       "    .dataframe tbody tr th {\n",
       "        vertical-align: top;\n",
       "    }\n",
       "\n",
       "    .dataframe thead th {\n",
       "        text-align: right;\n",
       "    }\n",
       "</style>\n",
       "<table border=\"1\" class=\"dataframe\">\n",
       "  <thead>\n",
       "    <tr style=\"text-align: right;\">\n",
       "      <th></th>\n",
       "      <th>Value</th>\n",
       "      <th>Date</th>\n",
       "      <th>Address</th>\n",
       "    </tr>\n",
       "  </thead>\n",
       "  <tbody>\n",
       "    <tr>\n",
       "      <th>0</th>\n",
       "      <td>1521.998769</td>\n",
       "      <td>Wed Oct 10 23:28:22 2018</td>\n",
       "      <td>ScriptHashAddress(3LvLL5foUDSW1UoUqEfBsFAvqdDTEyDPQ4, wrapped_address=bc1qm3k04txp97m3057wsh2m87e6hz092hy8e9t9a9)</td>\n",
       "    </tr>\n",
       "  </tbody>\n",
       "</table>\n",
       "</div>"
      ],
      "text/plain": [
       "         Value                      Date  \\\n",
       "0  1521.998769  Wed Oct 10 23:28:22 2018   \n",
       "\n",
       "                                                                                                             Address  \n",
       "0  ScriptHashAddress(3LvLL5foUDSW1UoUqEfBsFAvqdDTEyDPQ4, wrapped_address=bc1qm3k04txp97m3057wsh2m87e6hz092hy8e9t9a9)  "
      ]
     },
     "execution_count": 44,
     "metadata": {},
     "output_type": "execute_result"
    }
   ],
   "source": [
    "s = get_top_transactions('2018-10-01', '2018-10-23')\n",
    "s"
   ]
  },
  {
   "cell_type": "code",
   "execution_count": 39,
   "metadata": {},
   "outputs": [
    {
     "data": {
      "text/plain": [
       "1521.9987693590001"
      ]
     },
     "execution_count": 39,
     "metadata": {},
     "output_type": "execute_result"
    }
   ],
   "source": [
    "max_value = s['Value'].max()\n",
    "max_value"
   ]
  },
  {
   "cell_type": "code",
   "execution_count": 40,
   "metadata": {},
   "outputs": [
    {
     "data": {
      "text/plain": [
       "True"
      ]
     },
     "execution_count": 40,
     "metadata": {},
     "output_type": "execute_result"
    }
   ],
   "source": [
    "isinstance(max_value, float)"
   ]
  },
  {
   "cell_type": "code",
   "execution_count": 41,
   "metadata": {},
   "outputs": [],
   "source": [
    "address = s[s['Value'] == s['Value'].max()]['Address']"
   ]
  },
  {
   "cell_type": "code",
   "execution_count": 42,
   "metadata": {},
   "outputs": [
    {
     "data": {
      "text/plain": [
       "'0    ScriptHashAddress(3LvLL5foUDSW1UoUqEfBsFAvqdDTEyDPQ4, wrapped_address=bc1qm3k04txp97m3057wsh2m87e6hz092hy8e9t9a9)\\nName: Address, dtype: object'"
      ]
     },
     "execution_count": 42,
     "metadata": {},
     "output_type": "execute_result"
    }
   ],
   "source": [
    "str(address)"
   ]
  },
  {
   "cell_type": "code",
   "execution_count": 43,
   "metadata": {},
   "outputs": [
    {
     "name": "stdout",
     "output_type": "stream",
     "text": [
      "ScriptHashAddress(3LvLL5foUDSW1UoUqEfBsFAvqdDTEyDPQ4)\n"
     ]
    }
   ],
   "source": [
    "address_str = str(address).split()[1][:-1]+')'\n",
    "\n",
    "print(str(address_str))"
   ]
  },
  {
   "cell_type": "code",
   "execution_count": null,
   "metadata": {},
   "outputs": [],
   "source": []
  }
 ],
 "metadata": {
  "kernelspec": {
   "display_name": "Python 3",
   "language": "python",
   "name": "python3"
  },
  "language_info": {
   "codemirror_mode": {
    "name": "ipython",
    "version": 3
   },
   "file_extension": ".py",
   "mimetype": "text/x-python",
   "name": "python",
   "nbconvert_exporter": "python",
   "pygments_lexer": "ipython3",
   "version": "3.5.2"
  }
 },
 "nbformat": 4,
 "nbformat_minor": 2
}
