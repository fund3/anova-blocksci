{
 "cells": [
  {
   "cell_type": "markdown",
   "metadata": {},
   "source": [
    "# Set Up"
   ]
  },
  {
   "cell_type": "code",
   "execution_count": 1,
   "metadata": {},
   "outputs": [],
   "source": [
    "import sys\n",
    "sys.path.append(\"..\")"
   ]
  },
  {
   "cell_type": "code",
   "execution_count": 1,
   "metadata": {},
   "outputs": [],
   "source": [
    "# Relevant imports\n",
    "import blocksci\n",
    "import matplotlib.pyplot as plt\n",
    "import matplotlib.ticker\n",
    "import collections\n",
    "import pandas as pd\n",
    "import numpy as np\n",
    "%matplotlib notebook"
   ]
  },
  {
   "cell_type": "code",
   "execution_count": 2,
   "metadata": {},
   "outputs": [],
   "source": [
    "chain = blocksci.Blockchain(\"/home/ubuntu/bitcoin\")"
   ]
  },
  {
   "cell_type": "markdown",
   "metadata": {},
   "source": [
    "# Running\n",
    "\n",
    "## 1) Finding the 10 Highest Transactions in Given Year"
   ]
  },
  {
   "cell_type": "code",
   "execution_count": 3,
   "metadata": {},
   "outputs": [
    {
     "name": "stdout",
     "output_type": "stream",
     "text": [
      "CPU times: user 1.35 s, sys: 596 ms, total: 1.94 s\n",
      "Wall time: 1.96 s\n"
     ]
    }
   ],
   "source": [
    "# Get the range of blocks mined during 2017\n",
    "year = '2017';\n",
    "%time r = chain.range(year)"
   ]
  },
  {
   "cell_type": "code",
   "execution_count": null,
   "metadata": {},
   "outputs": [],
   "source": [
    "from heapq import nlargest\n",
    "\n",
    "# Get a list of all transactions during 2017\n",
    "%time outs = [[\"outpt\", outpt.address, outpt.value] for block in r for tx in block.txes.all for outpt in tx.outputs]\n",
    "%time ins = [[\"inpt\", inpt.address, inpt.value] for block in r, for tx in block.txes.all for inpt in tx.inputs]\n",
    "\n",
    "# Get the 10 largest transactions by input value\n",
    "n = 10;\n",
    "%time ten_largest_outs = nlargest(n, outs, lambda x : x[2])\n",
    "%time ten_largest_ins = nlargest(n, ins, lambda x : x[2])"
   ]
  },
  {
   "cell_type": "code",
   "execution_count": null,
   "metadata": {},
   "outputs": [],
   "source": [
    "# Combine the lists by just their addresses\n",
    "tlo = np.array(ten_largest_outs)\n",
    "tli = np.array(ten_largest_ins)\n",
    "\n",
    "# Make them into one array and find the 10 largest inputs and outputs\n",
    "ten_largest = nlargest(n, zip(tlo, tli), lambda x : x[2])"
   ]
  },
  {
   "cell_type": "code",
   "execution_count": null,
   "metadata": {},
   "outputs": [],
   "source": [
    "import blocksci.cluster_python\n",
    "cm = blocksci.cluster_python.ClusterManager(\"/home/ubuntu/bitcoin/clusters\", chain)\n",
    "clusts = []\n",
    "for address, value, tag in ten_largest:\n",
    "    clusts.append(cm.cluster_with_address(address))"
   ]
  },
  {
   "cell_type": "code",
   "execution_count": null,
   "metadata": {},
   "outputs": [],
   "source": []
  }
 ],
 "metadata": {
  "kernelspec": {
   "display_name": "Python 3",
   "language": "python",
   "name": "python3"
  },
  "language_info": {
   "codemirror_mode": {
    "name": "ipython",
    "version": 3
   },
   "file_extension": ".py",
   "mimetype": "text/x-python",
   "name": "python",
   "nbconvert_exporter": "python",
   "pygments_lexer": "ipython3",
   "version": "3.5.2"
  }
 },
 "nbformat": 4,
 "nbformat_minor": 2
}
